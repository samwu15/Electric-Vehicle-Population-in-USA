{
 "cells": [
  {
   "cell_type": "code",
   "execution_count": 1,
   "metadata": {},
   "outputs": [],
   "source": [
    "import numpy as np\n",
    "import pandas as pd\n",
    "import matplotlib.pyplot as plt\n",
    "import seaborn as sns\n",
    "\n",
    "from sklearn.impute import SimpleImputer\n",
    "from sklearn.preprocessing import LabelEncoder, MinMaxScaler\n",
    "from sklearn.model_selection import train_test_split\n",
    "from sklearn.linear_model import LogisticRegression\n",
    "from sklearn.svm import SVC\n",
    "from sklearn.neighbors import KNeighborsClassifier\n",
    "from sklearn.tree import DecisionTreeClassifier\n",
    "from sklearn.ensemble import RandomForestClassifier, BaggingClassifier, ExtraTreesClassifier, AdaBoostClassifier\n",
    "from sklearn.metrics import confusion_matrix, classification_report\n"
   ]
  },
  {
   "cell_type": "code",
   "execution_count": 2,
   "metadata": {},
   "outputs": [],
   "source": [
    "df = pd.read_csv(\"data.csv\")"
   ]
  },
  {
   "cell_type": "code",
   "execution_count": 3,
   "metadata": {},
   "outputs": [
    {
     "data": {
      "text/html": [
       "<div>\n",
       "<style scoped>\n",
       "    .dataframe tbody tr th:only-of-type {\n",
       "        vertical-align: middle;\n",
       "    }\n",
       "\n",
       "    .dataframe tbody tr th {\n",
       "        vertical-align: top;\n",
       "    }\n",
       "\n",
       "    .dataframe thead th {\n",
       "        text-align: right;\n",
       "    }\n",
       "</style>\n",
       "<table border=\"1\" class=\"dataframe\">\n",
       "  <thead>\n",
       "    <tr style=\"text-align: right;\">\n",
       "      <th></th>\n",
       "      <th>VIN (1-10)</th>\n",
       "      <th>County</th>\n",
       "      <th>City</th>\n",
       "      <th>State</th>\n",
       "      <th>Postal Code</th>\n",
       "      <th>Model Year</th>\n",
       "      <th>Make</th>\n",
       "      <th>Model</th>\n",
       "      <th>E.V_Type</th>\n",
       "      <th>CAFV</th>\n",
       "      <th>Electric Range</th>\n",
       "      <th>Base MSRP</th>\n",
       "      <th>Legislative District</th>\n",
       "      <th>DOL Vehicle ID</th>\n",
       "      <th>Vehicle Location</th>\n",
       "      <th>Electric Utility</th>\n",
       "      <th>2020 Census Tract</th>\n",
       "    </tr>\n",
       "  </thead>\n",
       "  <tbody>\n",
       "    <tr>\n",
       "      <th>0</th>\n",
       "      <td>JTMAB3FV3P</td>\n",
       "      <td>Kitsap</td>\n",
       "      <td>Seabeck</td>\n",
       "      <td>WA</td>\n",
       "      <td>98380.0</td>\n",
       "      <td>2023</td>\n",
       "      <td>TOYOTA</td>\n",
       "      <td>RAV4 PRIME</td>\n",
       "      <td>PHEV</td>\n",
       "      <td>known</td>\n",
       "      <td>42.0</td>\n",
       "      <td>0.0</td>\n",
       "      <td>35.0</td>\n",
       "      <td>240684006</td>\n",
       "      <td>POINT (-122.8728334 47.5798304)</td>\n",
       "      <td>PUGET SOUND ENERGY INC</td>\n",
       "      <td>5.303509e+10</td>\n",
       "    </tr>\n",
       "    <tr>\n",
       "      <th>1</th>\n",
       "      <td>1N4AZ1CP6J</td>\n",
       "      <td>Kitsap</td>\n",
       "      <td>Bremerton</td>\n",
       "      <td>WA</td>\n",
       "      <td>98312.0</td>\n",
       "      <td>2018</td>\n",
       "      <td>NISSAN</td>\n",
       "      <td>LEAF</td>\n",
       "      <td>BEV</td>\n",
       "      <td>known</td>\n",
       "      <td>151.0</td>\n",
       "      <td>0.0</td>\n",
       "      <td>35.0</td>\n",
       "      <td>474183811</td>\n",
       "      <td>POINT (-122.6961203 47.5759584)</td>\n",
       "      <td>PUGET SOUND ENERGY INC</td>\n",
       "      <td>5.303508e+10</td>\n",
       "    </tr>\n",
       "    <tr>\n",
       "      <th>2</th>\n",
       "      <td>5YJ3E1EA4L</td>\n",
       "      <td>King</td>\n",
       "      <td>Seattle</td>\n",
       "      <td>WA</td>\n",
       "      <td>98101.0</td>\n",
       "      <td>2020</td>\n",
       "      <td>TESLA</td>\n",
       "      <td>MODEL 3</td>\n",
       "      <td>BEV</td>\n",
       "      <td>known</td>\n",
       "      <td>266.0</td>\n",
       "      <td>0.0</td>\n",
       "      <td>43.0</td>\n",
       "      <td>113120017</td>\n",
       "      <td>POINT (-122.3340795 47.6099315)</td>\n",
       "      <td>CITY OF SEATTLE - (WA)|CITY OF TACOMA - (WA)</td>\n",
       "      <td>5.303301e+10</td>\n",
       "    </tr>\n",
       "  </tbody>\n",
       "</table>\n",
       "</div>"
      ],
      "text/plain": [
       "   VIN (1-10)  County       City State  Postal Code  Model Year    Make  \\\n",
       "0  JTMAB3FV3P  Kitsap    Seabeck    WA      98380.0        2023  TOYOTA   \n",
       "1  1N4AZ1CP6J  Kitsap  Bremerton    WA      98312.0        2018  NISSAN   \n",
       "2  5YJ3E1EA4L    King    Seattle    WA      98101.0        2020   TESLA   \n",
       "\n",
       "        Model E.V_Type   CAFV  Electric Range  Base MSRP  \\\n",
       "0  RAV4 PRIME     PHEV  known            42.0        0.0   \n",
       "1        LEAF      BEV  known           151.0        0.0   \n",
       "2     MODEL 3      BEV  known           266.0        0.0   \n",
       "\n",
       "   Legislative District  DOL Vehicle ID                 Vehicle Location  \\\n",
       "0                  35.0       240684006  POINT (-122.8728334 47.5798304)   \n",
       "1                  35.0       474183811  POINT (-122.6961203 47.5759584)   \n",
       "2                  43.0       113120017  POINT (-122.3340795 47.6099315)   \n",
       "\n",
       "                               Electric Utility  2020 Census Tract  \n",
       "0                        PUGET SOUND ENERGY INC       5.303509e+10  \n",
       "1                        PUGET SOUND ENERGY INC       5.303508e+10  \n",
       "2  CITY OF SEATTLE - (WA)|CITY OF TACOMA - (WA)       5.303301e+10  "
      ]
     },
     "execution_count": 3,
     "metadata": {},
     "output_type": "execute_result"
    }
   ],
   "source": [
    "df.head(3)"
   ]
  },
  {
   "cell_type": "code",
   "execution_count": 4,
   "metadata": {},
   "outputs": [
    {
     "name": "stdout",
     "output_type": "stream",
     "text": [
      "<class 'pandas.core.frame.DataFrame'>\n",
      "RangeIndex: 205439 entries, 0 to 205438\n",
      "Data columns (total 17 columns):\n",
      " #   Column                Non-Null Count   Dtype  \n",
      "---  ------                --------------   -----  \n",
      " 0   VIN (1-10)            205439 non-null  object \n",
      " 1   County                205436 non-null  object \n",
      " 2   City                  205436 non-null  object \n",
      " 3   State                 205439 non-null  object \n",
      " 4   Postal Code           205436 non-null  float64\n",
      " 5   Model Year            205439 non-null  int64  \n",
      " 6   Make                  205439 non-null  object \n",
      " 7   Model                 205438 non-null  object \n",
      " 8   E.V_Type              205439 non-null  object \n",
      " 9   CAFV                  205439 non-null  object \n",
      " 10  Electric Range        205431 non-null  float64\n",
      " 11  Base MSRP             205431 non-null  float64\n",
      " 12  Legislative District  204997 non-null  float64\n",
      " 13  DOL Vehicle ID        205439 non-null  int64  \n",
      " 14  Vehicle Location      205431 non-null  object \n",
      " 15  Electric Utility      205436 non-null  object \n",
      " 16  2020 Census Tract     205436 non-null  float64\n",
      "dtypes: float64(5), int64(2), object(10)\n",
      "memory usage: 26.6+ MB\n"
     ]
    }
   ],
   "source": [
    "df.info()"
   ]
  },
  {
   "cell_type": "code",
   "execution_count": 5,
   "metadata": {},
   "outputs": [
    {
     "data": {
      "text/html": [
       "<div>\n",
       "<style scoped>\n",
       "    .dataframe tbody tr th:only-of-type {\n",
       "        vertical-align: middle;\n",
       "    }\n",
       "\n",
       "    .dataframe tbody tr th {\n",
       "        vertical-align: top;\n",
       "    }\n",
       "\n",
       "    .dataframe thead th {\n",
       "        text-align: right;\n",
       "    }\n",
       "</style>\n",
       "<table border=\"1\" class=\"dataframe\">\n",
       "  <thead>\n",
       "    <tr style=\"text-align: right;\">\n",
       "      <th></th>\n",
       "      <th>Postal Code</th>\n",
       "      <th>Model Year</th>\n",
       "      <th>Electric Range</th>\n",
       "      <th>Base MSRP</th>\n",
       "      <th>Legislative District</th>\n",
       "      <th>DOL Vehicle ID</th>\n",
       "      <th>2020 Census Tract</th>\n",
       "    </tr>\n",
       "  </thead>\n",
       "  <tbody>\n",
       "    <tr>\n",
       "      <th>count</th>\n",
       "      <td>205436.000000</td>\n",
       "      <td>205439.000000</td>\n",
       "      <td>205431.000000</td>\n",
       "      <td>205431.000000</td>\n",
       "      <td>204997.000000</td>\n",
       "      <td>2.054390e+05</td>\n",
       "      <td>2.054360e+05</td>\n",
       "    </tr>\n",
       "    <tr>\n",
       "      <th>mean</th>\n",
       "      <td>98177.971870</td>\n",
       "      <td>2020.960363</td>\n",
       "      <td>52.164342</td>\n",
       "      <td>922.670532</td>\n",
       "      <td>28.970848</td>\n",
       "      <td>2.277156e+08</td>\n",
       "      <td>5.297704e+10</td>\n",
       "    </tr>\n",
       "    <tr>\n",
       "      <th>std</th>\n",
       "      <td>2419.037479</td>\n",
       "      <td>2.989059</td>\n",
       "      <td>88.075859</td>\n",
       "      <td>7761.753602</td>\n",
       "      <td>14.910052</td>\n",
       "      <td>7.205737e+07</td>\n",
       "      <td>1.588435e+09</td>\n",
       "    </tr>\n",
       "    <tr>\n",
       "      <th>min</th>\n",
       "      <td>1731.000000</td>\n",
       "      <td>1997.000000</td>\n",
       "      <td>0.000000</td>\n",
       "      <td>0.000000</td>\n",
       "      <td>1.000000</td>\n",
       "      <td>4.469000e+03</td>\n",
       "      <td>1.001020e+09</td>\n",
       "    </tr>\n",
       "    <tr>\n",
       "      <th>25%</th>\n",
       "      <td>98052.000000</td>\n",
       "      <td>2019.000000</td>\n",
       "      <td>0.000000</td>\n",
       "      <td>0.000000</td>\n",
       "      <td>17.000000</td>\n",
       "      <td>1.935324e+08</td>\n",
       "      <td>5.303301e+10</td>\n",
       "    </tr>\n",
       "    <tr>\n",
       "      <th>50%</th>\n",
       "      <td>98125.000000</td>\n",
       "      <td>2022.000000</td>\n",
       "      <td>0.000000</td>\n",
       "      <td>0.000000</td>\n",
       "      <td>33.000000</td>\n",
       "      <td>2.382368e+08</td>\n",
       "      <td>5.303303e+10</td>\n",
       "    </tr>\n",
       "    <tr>\n",
       "      <th>75%</th>\n",
       "      <td>98372.000000</td>\n",
       "      <td>2023.000000</td>\n",
       "      <td>48.000000</td>\n",
       "      <td>0.000000</td>\n",
       "      <td>42.000000</td>\n",
       "      <td>2.618718e+08</td>\n",
       "      <td>5.305307e+10</td>\n",
       "    </tr>\n",
       "    <tr>\n",
       "      <th>max</th>\n",
       "      <td>99577.000000</td>\n",
       "      <td>2025.000000</td>\n",
       "      <td>337.000000</td>\n",
       "      <td>845000.000000</td>\n",
       "      <td>49.000000</td>\n",
       "      <td>4.792548e+08</td>\n",
       "      <td>5.602100e+10</td>\n",
       "    </tr>\n",
       "  </tbody>\n",
       "</table>\n",
       "</div>"
      ],
      "text/plain": [
       "         Postal Code     Model Year  Electric Range      Base MSRP  \\\n",
       "count  205436.000000  205439.000000   205431.000000  205431.000000   \n",
       "mean    98177.971870    2020.960363       52.164342     922.670532   \n",
       "std      2419.037479       2.989059       88.075859    7761.753602   \n",
       "min      1731.000000    1997.000000        0.000000       0.000000   \n",
       "25%     98052.000000    2019.000000        0.000000       0.000000   \n",
       "50%     98125.000000    2022.000000        0.000000       0.000000   \n",
       "75%     98372.000000    2023.000000       48.000000       0.000000   \n",
       "max     99577.000000    2025.000000      337.000000  845000.000000   \n",
       "\n",
       "       Legislative District  DOL Vehicle ID  2020 Census Tract  \n",
       "count         204997.000000    2.054390e+05       2.054360e+05  \n",
       "mean              28.970848    2.277156e+08       5.297704e+10  \n",
       "std               14.910052    7.205737e+07       1.588435e+09  \n",
       "min                1.000000    4.469000e+03       1.001020e+09  \n",
       "25%               17.000000    1.935324e+08       5.303301e+10  \n",
       "50%               33.000000    2.382368e+08       5.303303e+10  \n",
       "75%               42.000000    2.618718e+08       5.305307e+10  \n",
       "max               49.000000    4.792548e+08       5.602100e+10  "
      ]
     },
     "execution_count": 5,
     "metadata": {},
     "output_type": "execute_result"
    }
   ],
   "source": [
    "df.describe()"
   ]
  },
  {
   "cell_type": "code",
   "execution_count": 6,
   "metadata": {},
   "outputs": [
    {
     "data": {
      "text/plain": [
       "VIN (1-10)                0\n",
       "County                    3\n",
       "City                      3\n",
       "State                     0\n",
       "Postal Code               3\n",
       "Model Year                0\n",
       "Make                      0\n",
       "Model                     1\n",
       "E.V_Type                  0\n",
       "CAFV                      0\n",
       "Electric Range            8\n",
       "Base MSRP                 8\n",
       "Legislative District    442\n",
       "DOL Vehicle ID            0\n",
       "Vehicle Location          8\n",
       "Electric Utility          3\n",
       "2020 Census Tract         3\n",
       "dtype: int64"
      ]
     },
     "execution_count": 6,
     "metadata": {},
     "output_type": "execute_result"
    }
   ],
   "source": [
    "df.isna().sum()"
   ]
  },
  {
   "cell_type": "code",
   "execution_count": 7,
   "metadata": {},
   "outputs": [
    {
     "name": "stdout",
     "output_type": "stream",
     "text": [
      "Duplicated values: 0\n"
     ]
    }
   ],
   "source": [
    "print(f\"Duplicated values: {df.duplicated().sum()}\")"
   ]
  },
  {
   "cell_type": "code",
   "execution_count": 8,
   "metadata": {},
   "outputs": [],
   "source": [
    "## Data cleaning"
   ]
  },
  {
   "cell_type": "code",
   "execution_count": 9,
   "metadata": {},
   "outputs": [],
   "source": [
    "categoric_imput = SimpleImputer(strategy='most_frequent')\n",
    "numeric_imput = SimpleImputer(strategy='median')\n",
    "\n",
    "df[['County','City','Model','Vehicle Location','Electric Utility']] = categoric_imput.fit_transform(df[['County','City','Model','Vehicle Location','Electric Utility']])\n",
    "df[['Postal Code','Electric Range','Base MSRP','Legislative District','2020 Census Tract']] = numeric_imput.fit_transform(df[['Postal Code','Electric Range','Base MSRP','Legislative District','2020 Census Tract']])"
   ]
  },
  {
   "cell_type": "code",
   "execution_count": 12,
   "metadata": {},
   "outputs": [
    {
     "name": "stdout",
     "output_type": "stream",
     "text": [
      "Missing values: 0\n",
      "Duplicated values: 0\n"
     ]
    }
   ],
   "source": [
    "print(f'Missing values: {df.isnull().sum().sum()}')\n",
    "print(f'Duplicated values: {df.duplicated().sum()}')"
   ]
  },
  {
   "cell_type": "code",
   "execution_count": 13,
   "metadata": {},
   "outputs": [],
   "source": [
    "df = df.drop(columns=['VIN (1-10)','DOL Vehicle ID'])"
   ]
  },
  {
   "cell_type": "code",
   "execution_count": 14,
   "metadata": {},
   "outputs": [
    {
     "data": {
      "text/html": [
       "<div>\n",
       "<style scoped>\n",
       "    .dataframe tbody tr th:only-of-type {\n",
       "        vertical-align: middle;\n",
       "    }\n",
       "\n",
       "    .dataframe tbody tr th {\n",
       "        vertical-align: top;\n",
       "    }\n",
       "\n",
       "    .dataframe thead th {\n",
       "        text-align: right;\n",
       "    }\n",
       "</style>\n",
       "<table border=\"1\" class=\"dataframe\">\n",
       "  <thead>\n",
       "    <tr style=\"text-align: right;\">\n",
       "      <th></th>\n",
       "      <th>County</th>\n",
       "      <th>City</th>\n",
       "      <th>State</th>\n",
       "      <th>Postal Code</th>\n",
       "      <th>Model Year</th>\n",
       "      <th>Make</th>\n",
       "      <th>Model</th>\n",
       "      <th>E.V_Type</th>\n",
       "      <th>CAFV</th>\n",
       "      <th>Electric Range</th>\n",
       "      <th>Base MSRP</th>\n",
       "      <th>Legislative District</th>\n",
       "      <th>Vehicle Location</th>\n",
       "      <th>Electric Utility</th>\n",
       "      <th>2020 Census Tract</th>\n",
       "    </tr>\n",
       "  </thead>\n",
       "  <tbody>\n",
       "    <tr>\n",
       "      <th>0</th>\n",
       "      <td>Kitsap</td>\n",
       "      <td>Seabeck</td>\n",
       "      <td>WA</td>\n",
       "      <td>98380.0</td>\n",
       "      <td>2023</td>\n",
       "      <td>TOYOTA</td>\n",
       "      <td>RAV4 PRIME</td>\n",
       "      <td>PHEV</td>\n",
       "      <td>known</td>\n",
       "      <td>42.0</td>\n",
       "      <td>0.0</td>\n",
       "      <td>35.0</td>\n",
       "      <td>POINT (-122.8728334 47.5798304)</td>\n",
       "      <td>PUGET SOUND ENERGY INC</td>\n",
       "      <td>5.303509e+10</td>\n",
       "    </tr>\n",
       "    <tr>\n",
       "      <th>1</th>\n",
       "      <td>Kitsap</td>\n",
       "      <td>Bremerton</td>\n",
       "      <td>WA</td>\n",
       "      <td>98312.0</td>\n",
       "      <td>2018</td>\n",
       "      <td>NISSAN</td>\n",
       "      <td>LEAF</td>\n",
       "      <td>BEV</td>\n",
       "      <td>known</td>\n",
       "      <td>151.0</td>\n",
       "      <td>0.0</td>\n",
       "      <td>35.0</td>\n",
       "      <td>POINT (-122.6961203 47.5759584)</td>\n",
       "      <td>PUGET SOUND ENERGY INC</td>\n",
       "      <td>5.303508e+10</td>\n",
       "    </tr>\n",
       "    <tr>\n",
       "      <th>2</th>\n",
       "      <td>King</td>\n",
       "      <td>Seattle</td>\n",
       "      <td>WA</td>\n",
       "      <td>98101.0</td>\n",
       "      <td>2020</td>\n",
       "      <td>TESLA</td>\n",
       "      <td>MODEL 3</td>\n",
       "      <td>BEV</td>\n",
       "      <td>known</td>\n",
       "      <td>266.0</td>\n",
       "      <td>0.0</td>\n",
       "      <td>43.0</td>\n",
       "      <td>POINT (-122.3340795 47.6099315)</td>\n",
       "      <td>CITY OF SEATTLE - (WA)|CITY OF TACOMA - (WA)</td>\n",
       "      <td>5.303301e+10</td>\n",
       "    </tr>\n",
       "  </tbody>\n",
       "</table>\n",
       "</div>"
      ],
      "text/plain": [
       "   County       City State  Postal Code  Model Year    Make       Model  \\\n",
       "0  Kitsap    Seabeck    WA      98380.0        2023  TOYOTA  RAV4 PRIME   \n",
       "1  Kitsap  Bremerton    WA      98312.0        2018  NISSAN        LEAF   \n",
       "2    King    Seattle    WA      98101.0        2020   TESLA     MODEL 3   \n",
       "\n",
       "  E.V_Type   CAFV  Electric Range  Base MSRP  Legislative District  \\\n",
       "0     PHEV  known            42.0        0.0                  35.0   \n",
       "1      BEV  known           151.0        0.0                  35.0   \n",
       "2      BEV  known           266.0        0.0                  43.0   \n",
       "\n",
       "                  Vehicle Location  \\\n",
       "0  POINT (-122.8728334 47.5798304)   \n",
       "1  POINT (-122.6961203 47.5759584)   \n",
       "2  POINT (-122.3340795 47.6099315)   \n",
       "\n",
       "                               Electric Utility  2020 Census Tract  \n",
       "0                        PUGET SOUND ENERGY INC       5.303509e+10  \n",
       "1                        PUGET SOUND ENERGY INC       5.303508e+10  \n",
       "2  CITY OF SEATTLE - (WA)|CITY OF TACOMA - (WA)       5.303301e+10  "
      ]
     },
     "execution_count": 14,
     "metadata": {},
     "output_type": "execute_result"
    }
   ],
   "source": [
    "df.head(3)"
   ]
  },
  {
   "cell_type": "code",
   "execution_count": 17,
   "metadata": {},
   "outputs": [],
   "source": [
    "from sklearn.preprocessing import LabelEncoder\n",
    "encoder = LabelEncoder()\n",
    "#Give every data a numerical label"
   ]
  },
  {
   "cell_type": "code",
   "execution_count": 18,
   "metadata": {},
   "outputs": [],
   "source": [
    "df['County'] = encoder.fit_transform(df['County'])\n",
    "df['City'] = encoder.fit_transform(df['City'])\n",
    "df['State'] = encoder.fit_transform(df['State'])\n",
    "df['Make'] = encoder.fit_transform(df['Make'])\n",
    "df['Model'] = encoder.fit_transform(df['Model'])\n",
    "df['E.V_Type'] = encoder.fit_transform(df['E.V_Type'])\n",
    "df['CAFV'] = encoder.fit_transform(df['CAFV'])\n",
    "df['Vehicle Location'] = encoder.fit_transform(df['Vehicle Location'])\n",
    "df['Electric Utility'] = encoder.fit_transform(df['Electric Utility'])"
   ]
  },
  {
   "cell_type": "code",
   "execution_count": 19,
   "metadata": {},
   "outputs": [
    {
     "data": {
      "text/html": [
       "<div>\n",
       "<style scoped>\n",
       "    .dataframe tbody tr th:only-of-type {\n",
       "        vertical-align: middle;\n",
       "    }\n",
       "\n",
       "    .dataframe tbody tr th {\n",
       "        vertical-align: top;\n",
       "    }\n",
       "\n",
       "    .dataframe thead th {\n",
       "        text-align: right;\n",
       "    }\n",
       "</style>\n",
       "<table border=\"1\" class=\"dataframe\">\n",
       "  <thead>\n",
       "    <tr style=\"text-align: right;\">\n",
       "      <th></th>\n",
       "      <th>County</th>\n",
       "      <th>City</th>\n",
       "      <th>State</th>\n",
       "      <th>Postal Code</th>\n",
       "      <th>Model Year</th>\n",
       "      <th>Make</th>\n",
       "      <th>Model</th>\n",
       "      <th>E.V_Type</th>\n",
       "      <th>CAFV</th>\n",
       "      <th>Electric Range</th>\n",
       "      <th>Base MSRP</th>\n",
       "      <th>Legislative District</th>\n",
       "      <th>Vehicle Location</th>\n",
       "      <th>Electric Utility</th>\n",
       "      <th>2020 Census Tract</th>\n",
       "    </tr>\n",
       "  </thead>\n",
       "  <tbody>\n",
       "    <tr>\n",
       "      <th>0</th>\n",
       "      <td>88</td>\n",
       "      <td>608</td>\n",
       "      <td>42</td>\n",
       "      <td>98380.0</td>\n",
       "      <td>2023</td>\n",
       "      <td>38</td>\n",
       "      <td>115</td>\n",
       "      <td>1</td>\n",
       "      <td>0</td>\n",
       "      <td>42.0</td>\n",
       "      <td>0.0</td>\n",
       "      <td>35.0</td>\n",
       "      <td>633</td>\n",
       "      <td>71</td>\n",
       "      <td>5.303509e+10</td>\n",
       "    </tr>\n",
       "    <tr>\n",
       "      <th>1</th>\n",
       "      <td>88</td>\n",
       "      <td>67</td>\n",
       "      <td>42</td>\n",
       "      <td>98312.0</td>\n",
       "      <td>2018</td>\n",
       "      <td>28</td>\n",
       "      <td>85</td>\n",
       "      <td>0</td>\n",
       "      <td>0</td>\n",
       "      <td>151.0</td>\n",
       "      <td>0.0</td>\n",
       "      <td>35.0</td>\n",
       "      <td>605</td>\n",
       "      <td>71</td>\n",
       "      <td>5.303508e+10</td>\n",
       "    </tr>\n",
       "    <tr>\n",
       "      <th>2</th>\n",
       "      <td>86</td>\n",
       "      <td>611</td>\n",
       "      <td>42</td>\n",
       "      <td>98101.0</td>\n",
       "      <td>2020</td>\n",
       "      <td>36</td>\n",
       "      <td>87</td>\n",
       "      <td>0</td>\n",
       "      <td>0</td>\n",
       "      <td>266.0</td>\n",
       "      <td>0.0</td>\n",
       "      <td>43.0</td>\n",
       "      <td>480</td>\n",
       "      <td>55</td>\n",
       "      <td>5.303301e+10</td>\n",
       "    </tr>\n",
       "  </tbody>\n",
       "</table>\n",
       "</div>"
      ],
      "text/plain": [
       "   County  City  State  Postal Code  Model Year  Make  Model  E.V_Type  CAFV  \\\n",
       "0      88   608     42      98380.0        2023    38    115         1     0   \n",
       "1      88    67     42      98312.0        2018    28     85         0     0   \n",
       "2      86   611     42      98101.0        2020    36     87         0     0   \n",
       "\n",
       "   Electric Range  Base MSRP  Legislative District  Vehicle Location  \\\n",
       "0            42.0        0.0                  35.0               633   \n",
       "1           151.0        0.0                  35.0               605   \n",
       "2           266.0        0.0                  43.0               480   \n",
       "\n",
       "   Electric Utility  2020 Census Tract  \n",
       "0                71       5.303509e+10  \n",
       "1                71       5.303508e+10  \n",
       "2                55       5.303301e+10  "
      ]
     },
     "execution_count": 19,
     "metadata": {},
     "output_type": "execute_result"
    }
   ],
   "source": [
    "df.head(3)"
   ]
  },
  {
   "cell_type": "code",
   "execution_count": 20,
   "metadata": {},
   "outputs": [],
   "source": [
    "#sepreate input and output\n",
    "\n",
    "x = df.drop(columns=['E.V_Type'])\n",
    "y = df['E.V_Type']"
   ]
  },
  {
   "cell_type": "code",
   "execution_count": 24,
   "metadata": {},
   "outputs": [
    {
     "data": {
      "text/html": [
       "<div>\n",
       "<style scoped>\n",
       "    .dataframe tbody tr th:only-of-type {\n",
       "        vertical-align: middle;\n",
       "    }\n",
       "\n",
       "    .dataframe tbody tr th {\n",
       "        vertical-align: top;\n",
       "    }\n",
       "\n",
       "    .dataframe thead th {\n",
       "        text-align: right;\n",
       "    }\n",
       "</style>\n",
       "<table border=\"1\" class=\"dataframe\">\n",
       "  <thead>\n",
       "    <tr style=\"text-align: right;\">\n",
       "      <th></th>\n",
       "      <th>County</th>\n",
       "      <th>City</th>\n",
       "      <th>State</th>\n",
       "      <th>Postal Code</th>\n",
       "      <th>Model Year</th>\n",
       "      <th>Make</th>\n",
       "      <th>Model</th>\n",
       "      <th>CAFV</th>\n",
       "      <th>Electric Range</th>\n",
       "      <th>Base MSRP</th>\n",
       "      <th>Legislative District</th>\n",
       "      <th>Vehicle Location</th>\n",
       "      <th>Electric Utility</th>\n",
       "      <th>2020 Census Tract</th>\n",
       "    </tr>\n",
       "  </thead>\n",
       "  <tbody>\n",
       "    <tr>\n",
       "      <th>0</th>\n",
       "      <td>88</td>\n",
       "      <td>608</td>\n",
       "      <td>42</td>\n",
       "      <td>98380.0</td>\n",
       "      <td>2023</td>\n",
       "      <td>38</td>\n",
       "      <td>115</td>\n",
       "      <td>0</td>\n",
       "      <td>42.0</td>\n",
       "      <td>0.0</td>\n",
       "      <td>35.0</td>\n",
       "      <td>633</td>\n",
       "      <td>71</td>\n",
       "      <td>5.303509e+10</td>\n",
       "    </tr>\n",
       "    <tr>\n",
       "      <th>1</th>\n",
       "      <td>88</td>\n",
       "      <td>67</td>\n",
       "      <td>42</td>\n",
       "      <td>98312.0</td>\n",
       "      <td>2018</td>\n",
       "      <td>28</td>\n",
       "      <td>85</td>\n",
       "      <td>0</td>\n",
       "      <td>151.0</td>\n",
       "      <td>0.0</td>\n",
       "      <td>35.0</td>\n",
       "      <td>605</td>\n",
       "      <td>71</td>\n",
       "      <td>5.303508e+10</td>\n",
       "    </tr>\n",
       "    <tr>\n",
       "      <th>2</th>\n",
       "      <td>86</td>\n",
       "      <td>611</td>\n",
       "      <td>42</td>\n",
       "      <td>98101.0</td>\n",
       "      <td>2020</td>\n",
       "      <td>36</td>\n",
       "      <td>87</td>\n",
       "      <td>0</td>\n",
       "      <td>266.0</td>\n",
       "      <td>0.0</td>\n",
       "      <td>43.0</td>\n",
       "      <td>480</td>\n",
       "      <td>55</td>\n",
       "      <td>5.303301e+10</td>\n",
       "    </tr>\n",
       "    <tr>\n",
       "      <th>3</th>\n",
       "      <td>86</td>\n",
       "      <td>611</td>\n",
       "      <td>42</td>\n",
       "      <td>98125.0</td>\n",
       "      <td>2014</td>\n",
       "      <td>28</td>\n",
       "      <td>85</td>\n",
       "      <td>0</td>\n",
       "      <td>84.0</td>\n",
       "      <td>0.0</td>\n",
       "      <td>46.0</td>\n",
       "      <td>460</td>\n",
       "      <td>55</td>\n",
       "      <td>5.303300e+10</td>\n",
       "    </tr>\n",
       "    <tr>\n",
       "      <th>4</th>\n",
       "      <td>183</td>\n",
       "      <td>767</td>\n",
       "      <td>42</td>\n",
       "      <td>98597.0</td>\n",
       "      <td>2017</td>\n",
       "      <td>7</td>\n",
       "      <td>20</td>\n",
       "      <td>0</td>\n",
       "      <td>238.0</td>\n",
       "      <td>0.0</td>\n",
       "      <td>20.0</td>\n",
       "      <td>566</td>\n",
       "      <td>71</td>\n",
       "      <td>5.306701e+10</td>\n",
       "    </tr>\n",
       "    <tr>\n",
       "      <th>...</th>\n",
       "      <td>...</td>\n",
       "      <td>...</td>\n",
       "      <td>...</td>\n",
       "      <td>...</td>\n",
       "      <td>...</td>\n",
       "      <td>...</td>\n",
       "      <td>...</td>\n",
       "      <td>...</td>\n",
       "      <td>...</td>\n",
       "      <td>...</td>\n",
       "      <td>...</td>\n",
       "      <td>...</td>\n",
       "      <td>...</td>\n",
       "      <td>...</td>\n",
       "    </tr>\n",
       "    <tr>\n",
       "      <th>205434</th>\n",
       "      <td>28</td>\n",
       "      <td>516</td>\n",
       "      <td>42</td>\n",
       "      <td>98847.0</td>\n",
       "      <td>2022</td>\n",
       "      <td>28</td>\n",
       "      <td>85</td>\n",
       "      <td>2</td>\n",
       "      <td>0.0</td>\n",
       "      <td>0.0</td>\n",
       "      <td>12.0</td>\n",
       "      <td>287</td>\n",
       "      <td>65</td>\n",
       "      <td>5.300796e+10</td>\n",
       "    </tr>\n",
       "    <tr>\n",
       "      <th>205435</th>\n",
       "      <td>170</td>\n",
       "      <td>211</td>\n",
       "      <td>42</td>\n",
       "      <td>98208.0</td>\n",
       "      <td>2023</td>\n",
       "      <td>12</td>\n",
       "      <td>54</td>\n",
       "      <td>2</td>\n",
       "      <td>0.0</td>\n",
       "      <td>0.0</td>\n",
       "      <td>44.0</td>\n",
       "      <td>413</td>\n",
       "      <td>71</td>\n",
       "      <td>5.306104e+10</td>\n",
       "    </tr>\n",
       "    <tr>\n",
       "      <th>205436</th>\n",
       "      <td>173</td>\n",
       "      <td>113</td>\n",
       "      <td>42</td>\n",
       "      <td>99004.0</td>\n",
       "      <td>2017</td>\n",
       "      <td>36</td>\n",
       "      <td>89</td>\n",
       "      <td>0</td>\n",
       "      <td>200.0</td>\n",
       "      <td>0.0</td>\n",
       "      <td>6.0</td>\n",
       "      <td>127</td>\n",
       "      <td>2</td>\n",
       "      <td>5.306301e+10</td>\n",
       "    </tr>\n",
       "    <tr>\n",
       "      <th>205437</th>\n",
       "      <td>86</td>\n",
       "      <td>716</td>\n",
       "      <td>42</td>\n",
       "      <td>98070.0</td>\n",
       "      <td>2018</td>\n",
       "      <td>36</td>\n",
       "      <td>87</td>\n",
       "      <td>0</td>\n",
       "      <td>215.0</td>\n",
       "      <td>0.0</td>\n",
       "      <td>34.0</td>\n",
       "      <td>528</td>\n",
       "      <td>72</td>\n",
       "      <td>5.303303e+10</td>\n",
       "    </tr>\n",
       "    <tr>\n",
       "      <th>205438</th>\n",
       "      <td>173</td>\n",
       "      <td>650</td>\n",
       "      <td>42</td>\n",
       "      <td>99208.0</td>\n",
       "      <td>2023</td>\n",
       "      <td>36</td>\n",
       "      <td>90</td>\n",
       "      <td>2</td>\n",
       "      <td>0.0</td>\n",
       "      <td>0.0</td>\n",
       "      <td>6.0</td>\n",
       "      <td>118</td>\n",
       "      <td>2</td>\n",
       "      <td>5.306301e+10</td>\n",
       "    </tr>\n",
       "  </tbody>\n",
       "</table>\n",
       "<p>205439 rows × 14 columns</p>\n",
       "</div>"
      ],
      "text/plain": [
       "        County  City  State  Postal Code  Model Year  Make  Model  CAFV  \\\n",
       "0           88   608     42      98380.0        2023    38    115     0   \n",
       "1           88    67     42      98312.0        2018    28     85     0   \n",
       "2           86   611     42      98101.0        2020    36     87     0   \n",
       "3           86   611     42      98125.0        2014    28     85     0   \n",
       "4          183   767     42      98597.0        2017     7     20     0   \n",
       "...        ...   ...    ...          ...         ...   ...    ...   ...   \n",
       "205434      28   516     42      98847.0        2022    28     85     2   \n",
       "205435     170   211     42      98208.0        2023    12     54     2   \n",
       "205436     173   113     42      99004.0        2017    36     89     0   \n",
       "205437      86   716     42      98070.0        2018    36     87     0   \n",
       "205438     173   650     42      99208.0        2023    36     90     2   \n",
       "\n",
       "        Electric Range  Base MSRP  Legislative District  Vehicle Location  \\\n",
       "0                 42.0        0.0                  35.0               633   \n",
       "1                151.0        0.0                  35.0               605   \n",
       "2                266.0        0.0                  43.0               480   \n",
       "3                 84.0        0.0                  46.0               460   \n",
       "4                238.0        0.0                  20.0               566   \n",
       "...                ...        ...                   ...               ...   \n",
       "205434             0.0        0.0                  12.0               287   \n",
       "205435             0.0        0.0                  44.0               413   \n",
       "205436           200.0        0.0                   6.0               127   \n",
       "205437           215.0        0.0                  34.0               528   \n",
       "205438             0.0        0.0                   6.0               118   \n",
       "\n",
       "        Electric Utility  2020 Census Tract  \n",
       "0                     71       5.303509e+10  \n",
       "1                     71       5.303508e+10  \n",
       "2                     55       5.303301e+10  \n",
       "3                     55       5.303300e+10  \n",
       "4                     71       5.306701e+10  \n",
       "...                  ...                ...  \n",
       "205434                65       5.300796e+10  \n",
       "205435                71       5.306104e+10  \n",
       "205436                 2       5.306301e+10  \n",
       "205437                72       5.303303e+10  \n",
       "205438                 2       5.306301e+10  \n",
       "\n",
       "[205439 rows x 14 columns]"
      ]
     },
     "execution_count": 24,
     "metadata": {},
     "output_type": "execute_result"
    }
   ],
   "source": [
    "x"
   ]
  },
  {
   "cell_type": "code",
   "execution_count": 23,
   "metadata": {},
   "outputs": [
    {
     "data": {
      "text/plain": [
       "0         1\n",
       "1         0\n",
       "2         0\n",
       "3         0\n",
       "4         0\n",
       "         ..\n",
       "205434    0\n",
       "205435    0\n",
       "205436    0\n",
       "205437    0\n",
       "205438    0\n",
       "Name: E.V_Type, Length: 205439, dtype: int64"
      ]
     },
     "execution_count": 23,
     "metadata": {},
     "output_type": "execute_result"
    }
   ],
   "source": [
    "y"
   ]
  },
  {
   "cell_type": "code",
   "execution_count": 25,
   "metadata": {},
   "outputs": [],
   "source": [
    "from sklearn.preprocessing import MinMaxScaler\n",
    "import numpy as np"
   ]
  },
  {
   "cell_type": "code",
   "execution_count": 26,
   "metadata": {},
   "outputs": [],
   "source": [
    "#transfer data to scale[0,1], in order to ML\n",
    "scaler = MinMaxScaler()\n",
    "\n",
    "x = scaler.fit_transform(x)"
   ]
  },
  {
   "cell_type": "code",
   "execution_count": 27,
   "metadata": {},
   "outputs": [
    {
     "data": {
      "text/plain": [
       "array([[0.43137255, 0.79063719, 0.95454545, ..., 0.6828479 , 0.97260274,\n",
       "        0.94573045],\n",
       "       [0.43137255, 0.08712614, 0.95454545, ..., 0.65264293, 0.97260274,\n",
       "        0.94573025],\n",
       "       [0.42156863, 0.79453836, 0.95454545, ..., 0.51779935, 0.75342466,\n",
       "        0.94569257],\n",
       "       ...,\n",
       "       [0.84803922, 0.14694408, 0.95454545, ..., 0.13700108, 0.02739726,\n",
       "        0.94623795],\n",
       "       [0.42156863, 0.93107932, 0.95454545, ..., 0.56957929, 0.98630137,\n",
       "        0.94569294],\n",
       "       [0.84803922, 0.84525358, 0.95454545, ..., 0.12729234, 0.02739726,\n",
       "        0.94623789]])"
      ]
     },
     "execution_count": 27,
     "metadata": {},
     "output_type": "execute_result"
    }
   ],
   "source": [
    "x"
   ]
  },
  {
   "cell_type": "code",
   "execution_count": 30,
   "metadata": {},
   "outputs": [],
   "source": [
    "#spearate data to test set and train set\n",
    "x_train, x_test, y_train, y_test = train_test_split(x, y, test_size=0.3, shuffle=True, random_state=30)"
   ]
  },
  {
   "cell_type": "code",
   "execution_count": 31,
   "metadata": {},
   "outputs": [],
   "source": [
    "# Machine Learning Model"
   ]
  },
  {
   "cell_type": "code",
   "execution_count": 33,
   "metadata": {},
   "outputs": [],
   "source": [
    "model_1 = LogisticRegression()\n",
    "model_2 = SVC()\n",
    "model_3 = KNeighborsClassifier()\n",
    "model_4 = DecisionTreeClassifier()\n",
    "model_5 = RandomForestClassifier()\n",
    "model_6 = BaggingClassifier()\n",
    "model_7 = ExtraTreesClassifier()\n",
    "model_8 = AdaBoostClassifier()\n"
   ]
  },
  {
   "cell_type": "code",
   "execution_count": 34,
   "metadata": {},
   "outputs": [
    {
     "name": "stderr",
     "output_type": "stream",
     "text": [
      "/Users/wujiayou/opt/anaconda3/lib/python3.7/site-packages/sklearn/linear_model/_logistic.py:940: ConvergenceWarning: lbfgs failed to converge (status=1):\n",
      "STOP: TOTAL NO. of ITERATIONS REACHED LIMIT.\n",
      "\n",
      "Increase the number of iterations (max_iter) or scale the data as shown in:\n",
      "    https://scikit-learn.org/stable/modules/preprocessing.html\n",
      "Please also refer to the documentation for alternative solver options:\n",
      "    https://scikit-learn.org/stable/modules/linear_model.html#logistic-regression\n",
      "  extra_warning_msg=_LOGISTIC_SOLVER_CONVERGENCE_MSG)\n"
     ]
    },
    {
     "data": {
      "text/plain": [
       "LogisticRegression(C=1.0, class_weight=None, dual=False, fit_intercept=True,\n",
       "                   intercept_scaling=1, l1_ratio=None, max_iter=100,\n",
       "                   multi_class='auto', n_jobs=None, penalty='l2',\n",
       "                   random_state=None, solver='lbfgs', tol=0.0001, verbose=0,\n",
       "                   warm_start=False)"
      ]
     },
     "execution_count": 34,
     "metadata": {},
     "output_type": "execute_result"
    }
   ],
   "source": [
    "#model 1 LogisticRegression\n",
    "model_1.fit(x_train,y_train)"
   ]
  },
  {
   "cell_type": "code",
   "execution_count": 35,
   "metadata": {},
   "outputs": [],
   "source": [
    "y_pred = model_1.predict(x_test)"
   ]
  },
  {
   "cell_type": "code",
   "execution_count": 36,
   "metadata": {},
   "outputs": [
    {
     "name": "stdout",
     "output_type": "stream",
     "text": [
      "[[48346   238]\n",
      " [  668 12380]]\n"
     ]
    }
   ],
   "source": [
    "print(confusion_matrix(y_test, y_pred))"
   ]
  },
  {
   "cell_type": "code",
   "execution_count": 38,
   "metadata": {},
   "outputs": [
    {
     "name": "stdout",
     "output_type": "stream",
     "text": [
      "Logistic Regression Accuracy: 0.9852998442367601\n"
     ]
    }
   ],
   "source": [
    "# Calculate the accuracy score\n",
    "from sklearn.metrics import accuracy_score\n",
    "accuracy = accuracy_score(y_test, y_pred)\n",
    "print(f\"Logistic Regression Accuracy: {accuracy}\")"
   ]
  },
  {
   "cell_type": "code",
   "execution_count": 39,
   "metadata": {},
   "outputs": [
    {
     "name": "stdout",
     "output_type": "stream",
     "text": [
      "              precision    recall  f1-score   support\n",
      "\n",
      "           0       0.99      1.00      0.99     48584\n",
      "           1       0.98      0.95      0.96     13048\n",
      "\n",
      "    accuracy                           0.99     61632\n",
      "   macro avg       0.98      0.97      0.98     61632\n",
      "weighted avg       0.99      0.99      0.99     61632\n",
      "\n"
     ]
    }
   ],
   "source": [
    "print(classification_report(y_test, y_pred))"
   ]
  },
  {
   "cell_type": "code",
   "execution_count": 44,
   "metadata": {},
   "outputs": [
    {
     "data": {
      "text/plain": [
       "SVC(C=1.0, break_ties=False, cache_size=200, class_weight=None, coef0=0.0,\n",
       "    decision_function_shape='ovr', degree=3, gamma='scale', kernel='rbf',\n",
       "    max_iter=-1, probability=False, random_state=None, shrinking=True,\n",
       "    tol=0.001, verbose=False)"
      ]
     },
     "execution_count": 44,
     "metadata": {},
     "output_type": "execute_result"
    }
   ],
   "source": [
    "#model 2 Support Vector Classifier\n",
    "model_2.fit(x_train,y_train)"
   ]
  },
  {
   "cell_type": "code",
   "execution_count": 48,
   "metadata": {},
   "outputs": [],
   "source": [
    "y_pred = model_2.predict(x_test)"
   ]
  },
  {
   "cell_type": "code",
   "execution_count": 49,
   "metadata": {},
   "outputs": [
    {
     "name": "stdout",
     "output_type": "stream",
     "text": [
      "[[48388   196]\n",
      " [    7 13041]]\n"
     ]
    }
   ],
   "source": [
    "print(confusion_matrix(y_test, y_pred))"
   ]
  },
  {
   "cell_type": "code",
   "execution_count": 50,
   "metadata": {},
   "outputs": [
    {
     "name": "stdout",
     "output_type": "stream",
     "text": [
      "Logistic Regression Accuracy: 0.996706256490135\n"
     ]
    }
   ],
   "source": [
    "accuracy = accuracy_score(y_test, y_pred)\n",
    "print(f\"Logistic Regression Accuracy: {accuracy}\")"
   ]
  },
  {
   "cell_type": "code",
   "execution_count": 51,
   "metadata": {},
   "outputs": [
    {
     "name": "stdout",
     "output_type": "stream",
     "text": [
      "              precision    recall  f1-score   support\n",
      "\n",
      "           0       1.00      1.00      1.00     48584\n",
      "           1       0.99      1.00      0.99     13048\n",
      "\n",
      "    accuracy                           1.00     61632\n",
      "   macro avg       0.99      1.00      1.00     61632\n",
      "weighted avg       1.00      1.00      1.00     61632\n",
      "\n"
     ]
    }
   ],
   "source": [
    "print(classification_report(y_test, y_pred))"
   ]
  },
  {
   "cell_type": "code",
   "execution_count": 52,
   "metadata": {},
   "outputs": [],
   "source": [
    "#model 3 KNeighborsClassifier\n",
    "model_3.fit(x_train,y_train)\n",
    "y_pred = model_3.predict(x_test)"
   ]
  },
  {
   "cell_type": "code",
   "execution_count": 53,
   "metadata": {},
   "outputs": [
    {
     "name": "stdout",
     "output_type": "stream",
     "text": [
      "[[48393   191]\n",
      " [   44 13004]]\n"
     ]
    }
   ],
   "source": [
    "print(confusion_matrix(y_test, y_pred))"
   ]
  },
  {
   "cell_type": "code",
   "execution_count": 54,
   "metadata": {},
   "outputs": [
    {
     "name": "stdout",
     "output_type": "stream",
     "text": [
      "Logistic Regression Accuracy: 0.9961870456905504\n"
     ]
    }
   ],
   "source": [
    "accuracy = accuracy_score(y_test, y_pred)\n",
    "print(f\"Logistic Regression Accuracy: {accuracy}\")"
   ]
  },
  {
   "cell_type": "code",
   "execution_count": 55,
   "metadata": {},
   "outputs": [
    {
     "name": "stdout",
     "output_type": "stream",
     "text": [
      "              precision    recall  f1-score   support\n",
      "\n",
      "           0       1.00      1.00      1.00     48584\n",
      "           1       0.99      1.00      0.99     13048\n",
      "\n",
      "    accuracy                           1.00     61632\n",
      "   macro avg       0.99      1.00      0.99     61632\n",
      "weighted avg       1.00      1.00      1.00     61632\n",
      "\n"
     ]
    }
   ],
   "source": [
    "print(classification_report(y_test, y_pred))"
   ]
  },
  {
   "cell_type": "code",
   "execution_count": 56,
   "metadata": {},
   "outputs": [],
   "source": [
    "#model 4 DecisionTreeClassifier\n",
    "model_4.fit(x_train,y_train)\n",
    "y_pred = model_4.predict(x_test)"
   ]
  },
  {
   "cell_type": "code",
   "execution_count": 57,
   "metadata": {},
   "outputs": [
    {
     "name": "stdout",
     "output_type": "stream",
     "text": [
      "[[48580     4]\n",
      " [    4 13044]]\n"
     ]
    }
   ],
   "source": [
    "print(confusion_matrix(y_test, y_pred))"
   ]
  },
  {
   "cell_type": "code",
   "execution_count": 58,
   "metadata": {},
   "outputs": [
    {
     "name": "stdout",
     "output_type": "stream",
     "text": [
      "Logistic Regression Accuracy: 0.9998701973001038\n"
     ]
    }
   ],
   "source": [
    "accuracy = accuracy_score(y_test, y_pred)\n",
    "print(f\"Logistic Regression Accuracy: {accuracy}\")"
   ]
  },
  {
   "cell_type": "code",
   "execution_count": 59,
   "metadata": {},
   "outputs": [
    {
     "name": "stdout",
     "output_type": "stream",
     "text": [
      "              precision    recall  f1-score   support\n",
      "\n",
      "           0       1.00      1.00      1.00     48584\n",
      "           1       1.00      1.00      1.00     13048\n",
      "\n",
      "    accuracy                           1.00     61632\n",
      "   macro avg       1.00      1.00      1.00     61632\n",
      "weighted avg       1.00      1.00      1.00     61632\n",
      "\n"
     ]
    }
   ],
   "source": [
    "print(classification_report(y_test, y_pred))"
   ]
  },
  {
   "cell_type": "code",
   "execution_count": 60,
   "metadata": {},
   "outputs": [],
   "source": [
    "#model 5 RandomForestClassifier\n",
    "model_5.fit(x_train,y_train)\n",
    "y_pred = model_5.predict(x_test)"
   ]
  },
  {
   "cell_type": "code",
   "execution_count": 61,
   "metadata": {},
   "outputs": [
    {
     "name": "stdout",
     "output_type": "stream",
     "text": [
      "[[48577     7]\n",
      " [    5 13043]]\n"
     ]
    }
   ],
   "source": [
    "print(confusion_matrix(y_test, y_pred))"
   ]
  },
  {
   "cell_type": "code",
   "execution_count": 62,
   "metadata": {},
   "outputs": [
    {
     "name": "stdout",
     "output_type": "stream",
     "text": [
      "Logistic Regression Accuracy: 0.9998052959501558\n"
     ]
    }
   ],
   "source": [
    "accuracy = accuracy_score(y_test, y_pred)\n",
    "print(f\"Logistic Regression Accuracy: {accuracy}\")"
   ]
  },
  {
   "cell_type": "code",
   "execution_count": 63,
   "metadata": {},
   "outputs": [
    {
     "name": "stdout",
     "output_type": "stream",
     "text": [
      "              precision    recall  f1-score   support\n",
      "\n",
      "           0       1.00      1.00      1.00     48584\n",
      "           1       1.00      1.00      1.00     13048\n",
      "\n",
      "    accuracy                           1.00     61632\n",
      "   macro avg       1.00      1.00      1.00     61632\n",
      "weighted avg       1.00      1.00      1.00     61632\n",
      "\n"
     ]
    }
   ],
   "source": [
    "print(classification_report(y_test, y_pred))"
   ]
  },
  {
   "cell_type": "code",
   "execution_count": 64,
   "metadata": {},
   "outputs": [],
   "source": [
    "#model 6 BaggingClassifier\n",
    "model_6.fit(x_train,y_train)\n",
    "y_pred = model_6.predict(x_test)"
   ]
  },
  {
   "cell_type": "code",
   "execution_count": 65,
   "metadata": {},
   "outputs": [
    {
     "name": "stdout",
     "output_type": "stream",
     "text": [
      "[[48580     4]\n",
      " [    2 13046]]\n"
     ]
    }
   ],
   "source": [
    "print(confusion_matrix(y_test, y_pred))"
   ]
  },
  {
   "cell_type": "code",
   "execution_count": 66,
   "metadata": {},
   "outputs": [
    {
     "name": "stdout",
     "output_type": "stream",
     "text": [
      "Logistic Regression Accuracy: 0.9999026479750779\n"
     ]
    }
   ],
   "source": [
    "accuracy = accuracy_score(y_test, y_pred)\n",
    "print(f\"Logistic Regression Accuracy: {accuracy}\")"
   ]
  },
  {
   "cell_type": "code",
   "execution_count": 67,
   "metadata": {},
   "outputs": [
    {
     "name": "stdout",
     "output_type": "stream",
     "text": [
      "              precision    recall  f1-score   support\n",
      "\n",
      "           0       1.00      1.00      1.00     48584\n",
      "           1       1.00      1.00      1.00     13048\n",
      "\n",
      "    accuracy                           1.00     61632\n",
      "   macro avg       1.00      1.00      1.00     61632\n",
      "weighted avg       1.00      1.00      1.00     61632\n",
      "\n"
     ]
    }
   ],
   "source": [
    "print(classification_report(y_test, y_pred))"
   ]
  },
  {
   "cell_type": "code",
   "execution_count": 68,
   "metadata": {},
   "outputs": [],
   "source": [
    "#model 7 ExtraTreesClassifier\n",
    "model_7.fit(x_train,y_train)\n",
    "y_pred = model_7.predict(x_test)"
   ]
  },
  {
   "cell_type": "code",
   "execution_count": 69,
   "metadata": {},
   "outputs": [
    {
     "name": "stdout",
     "output_type": "stream",
     "text": [
      "[[48575     9]\n",
      " [    7 13041]]\n"
     ]
    }
   ],
   "source": [
    "print(confusion_matrix(y_test, y_pred))"
   ]
  },
  {
   "cell_type": "code",
   "execution_count": 70,
   "metadata": {},
   "outputs": [
    {
     "name": "stdout",
     "output_type": "stream",
     "text": [
      "Logistic Regression Accuracy: 0.9997403946002077\n"
     ]
    }
   ],
   "source": [
    "accuracy = accuracy_score(y_test, y_pred)\n",
    "print(f\"Logistic Regression Accuracy: {accuracy}\")"
   ]
  },
  {
   "cell_type": "code",
   "execution_count": 71,
   "metadata": {},
   "outputs": [
    {
     "name": "stdout",
     "output_type": "stream",
     "text": [
      "              precision    recall  f1-score   support\n",
      "\n",
      "           0       1.00      1.00      1.00     48584\n",
      "           1       1.00      1.00      1.00     13048\n",
      "\n",
      "    accuracy                           1.00     61632\n",
      "   macro avg       1.00      1.00      1.00     61632\n",
      "weighted avg       1.00      1.00      1.00     61632\n",
      "\n"
     ]
    }
   ],
   "source": [
    "print(classification_report(y_test, y_pred))"
   ]
  },
  {
   "cell_type": "code",
   "execution_count": 72,
   "metadata": {},
   "outputs": [],
   "source": [
    "#model 8 AdaBoostClassifier\n",
    "model_8.fit(x_train,y_train)\n",
    "y_pred = model_8.predict(x_test)"
   ]
  },
  {
   "cell_type": "code",
   "execution_count": 73,
   "metadata": {},
   "outputs": [
    {
     "name": "stdout",
     "output_type": "stream",
     "text": [
      "[[48580     4]\n",
      " [    6 13042]]\n"
     ]
    }
   ],
   "source": [
    "print(confusion_matrix(y_test, y_pred))"
   ]
  },
  {
   "cell_type": "code",
   "execution_count": 74,
   "metadata": {},
   "outputs": [
    {
     "name": "stdout",
     "output_type": "stream",
     "text": [
      "Logistic Regression Accuracy: 0.9998377466251298\n"
     ]
    }
   ],
   "source": [
    "accuracy = accuracy_score(y_test, y_pred)\n",
    "print(f\"Logistic Regression Accuracy: {accuracy}\")"
   ]
  },
  {
   "cell_type": "code",
   "execution_count": 75,
   "metadata": {},
   "outputs": [
    {
     "name": "stdout",
     "output_type": "stream",
     "text": [
      "              precision    recall  f1-score   support\n",
      "\n",
      "           0       1.00      1.00      1.00     48584\n",
      "           1       1.00      1.00      1.00     13048\n",
      "\n",
      "    accuracy                           1.00     61632\n",
      "   macro avg       1.00      1.00      1.00     61632\n",
      "weighted avg       1.00      1.00      1.00     61632\n",
      "\n"
     ]
    }
   ],
   "source": [
    "print(classification_report(y_test, y_pred))"
   ]
  },
  {
   "cell_type": "code",
   "execution_count": 76,
   "metadata": {},
   "outputs": [
    {
     "data": {
      "text/html": [
       "<div>\n",
       "<style scoped>\n",
       "    .dataframe tbody tr th:only-of-type {\n",
       "        vertical-align: middle;\n",
       "    }\n",
       "\n",
       "    .dataframe tbody tr th {\n",
       "        vertical-align: top;\n",
       "    }\n",
       "\n",
       "    .dataframe thead th {\n",
       "        text-align: right;\n",
       "    }\n",
       "</style>\n",
       "<table border=\"1\" class=\"dataframe\">\n",
       "  <thead>\n",
       "    <tr style=\"text-align: right;\">\n",
       "      <th></th>\n",
       "      <th>Model</th>\n",
       "      <th>Train score</th>\n",
       "      <th>Test score</th>\n",
       "      <th>Ratio difference</th>\n",
       "      <th>Evaluate model</th>\n",
       "    </tr>\n",
       "  </thead>\n",
       "  <tbody>\n",
       "    <tr>\n",
       "      <th>0</th>\n",
       "      <td>LogisticRegression</td>\n",
       "      <td>98.54%</td>\n",
       "      <td>98.53%</td>\n",
       "      <td>0.01%</td>\n",
       "      <td>good</td>\n",
       "    </tr>\n",
       "    <tr>\n",
       "      <th>1</th>\n",
       "      <td>SVC</td>\n",
       "      <td>99.71%</td>\n",
       "      <td>99.67%</td>\n",
       "      <td>0.04%</td>\n",
       "      <td>good</td>\n",
       "    </tr>\n",
       "    <tr>\n",
       "      <th>2</th>\n",
       "      <td>KNeighborsClassifier</td>\n",
       "      <td>99.77%</td>\n",
       "      <td>99.62%</td>\n",
       "      <td>0.15%</td>\n",
       "      <td>good</td>\n",
       "    </tr>\n",
       "    <tr>\n",
       "      <th>3</th>\n",
       "      <td>DecisionTreeClassifier</td>\n",
       "      <td>100.0%</td>\n",
       "      <td>99.99%</td>\n",
       "      <td>0.01%</td>\n",
       "      <td>good</td>\n",
       "    </tr>\n",
       "    <tr>\n",
       "      <th>4</th>\n",
       "      <td>RandomForestClassifier</td>\n",
       "      <td>100.0%</td>\n",
       "      <td>99.98%</td>\n",
       "      <td>0.02%</td>\n",
       "      <td>good</td>\n",
       "    </tr>\n",
       "    <tr>\n",
       "      <th>5</th>\n",
       "      <td>BaggingClassifier</td>\n",
       "      <td>100.0%</td>\n",
       "      <td>99.99%</td>\n",
       "      <td>0.01%</td>\n",
       "      <td>good</td>\n",
       "    </tr>\n",
       "    <tr>\n",
       "      <th>6</th>\n",
       "      <td>ExtraTreesClassifier</td>\n",
       "      <td>100.0%</td>\n",
       "      <td>99.97%</td>\n",
       "      <td>0.03%</td>\n",
       "      <td>unknown</td>\n",
       "    </tr>\n",
       "    <tr>\n",
       "      <th>7</th>\n",
       "      <td>AdaBoostClassifier</td>\n",
       "      <td>100.0%</td>\n",
       "      <td>99.98%</td>\n",
       "      <td>0.01%</td>\n",
       "      <td>good</td>\n",
       "    </tr>\n",
       "  </tbody>\n",
       "</table>\n",
       "</div>"
      ],
      "text/plain": [
       "                    Model Train score Test score Ratio difference  \\\n",
       "0      LogisticRegression      98.54%     98.53%            0.01%   \n",
       "1                     SVC      99.71%     99.67%            0.04%   \n",
       "2    KNeighborsClassifier      99.77%     99.62%            0.15%   \n",
       "3  DecisionTreeClassifier      100.0%     99.99%            0.01%   \n",
       "4  RandomForestClassifier      100.0%     99.98%            0.02%   \n",
       "5       BaggingClassifier      100.0%     99.99%            0.01%   \n",
       "6    ExtraTreesClassifier      100.0%     99.97%            0.03%   \n",
       "7      AdaBoostClassifier      100.0%     99.98%            0.01%   \n",
       "\n",
       "  Evaluate model  \n",
       "0           good  \n",
       "1           good  \n",
       "2           good  \n",
       "3           good  \n",
       "4           good  \n",
       "5           good  \n",
       "6        unknown  \n",
       "7           good  "
      ]
     },
     "execution_count": 76,
     "metadata": {},
     "output_type": "execute_result"
    }
   ],
   "source": [
    "# List of models:\n",
    "models = [model_1, model_2, model_3, model_4, model_5,\n",
    "          model_6, model_7, model_8]\n",
    "models_names = ['LogisticRegression', 'SVC', 'KNeighborsClassifier', 'DecisionTreeClassifier',\n",
    "                'RandomForestClassifier', 'BaggingClassifier', 'ExtraTreesClassifier', 'AdaBoostClassifier',\n",
    "                ]\n",
    "\n",
    "# Calculate train and test scores:\n",
    "train_score = [model.score(x_train, y_train) for model in models]\n",
    "test_score = [model.score(x_test, y_test) for model in models]\n",
    "\n",
    "# Difference between training and testing ratio\n",
    "ratio = []\n",
    "for train, test in zip(train_score, test_score):\n",
    "    result = train - test\n",
    "    ratio.append(f'{result * 100:.2f}%')\n",
    "\n",
    "# Measure model state:6\n",
    "rate = []\n",
    "for train, test in zip(train_score, test_score):\n",
    "    if train <= 0.65 and test <= 0.65:\n",
    "        rate.append('bad')\n",
    "    elif train > test * 1.10:\n",
    "        rate.append('overfite')\n",
    "    elif train > 0.65 and train < 0.80 and test > 0.65 and test < 0.80:\n",
    "        rate.append('middle')\n",
    "    elif train >= 0.80 and test >= 0.80 and train < 1.00 and test < 1.00:\n",
    "        rate.append('good')\n",
    "    elif train >= 0.80 and test < 0.80:\n",
    "        rate.append('high train, low test')\n",
    "    else:\n",
    "        rate.append('unknown')\n",
    "\n",
    "# Create DataFrame\n",
    "model_score = pd.DataFrame({\n",
    "    'Model': models_names,\n",
    "    'Train score': [f'{round(score * 100, 2)}%' for score in train_score],\n",
    "    'Test score': [f'{round(score * 100, 2)}%' for score in test_score],\n",
    "    'Ratio difference': ratio,\n",
    "    'Evaluate model': rate,\n",
    "})\n",
    "\n",
    "# Show result:\n",
    "model_score"
   ]
  },
  {
   "cell_type": "code",
   "execution_count": null,
   "metadata": {},
   "outputs": [],
   "source": []
  }
 ],
 "metadata": {
  "kernelspec": {
   "display_name": "Python 3",
   "language": "python",
   "name": "python3"
  },
  "language_info": {
   "codemirror_mode": {
    "name": "ipython",
    "version": 3
   },
   "file_extension": ".py",
   "mimetype": "text/x-python",
   "name": "python",
   "nbconvert_exporter": "python",
   "pygments_lexer": "ipython3",
   "version": "3.7.6"
  }
 },
 "nbformat": 4,
 "nbformat_minor": 4
}
